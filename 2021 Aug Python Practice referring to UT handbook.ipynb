{
 "cells": [
  {
   "cell_type": "code",
   "execution_count": 8,
   "id": "e9903b94",
   "metadata": {},
   "outputs": [
    {
     "data": {
      "text/plain": [
       "1"
      ]
     },
     "execution_count": 8,
     "metadata": {},
     "output_type": "execute_result"
    }
   ],
   "source": [
    "#2021年8月21日より、東京大学「Pythonプログラミング入門」に準拠し、Pythonの学習をはじめました。"
   ]
  },
  {
   "cell_type": "code",
   "execution_count": 13,
   "id": "4d4feba7",
   "metadata": {},
   "outputs": [
    {
     "name": "stdout",
     "output_type": "stream",
     "text": [
      "1.4142135623730951\n",
      "3.141592653589793\n",
      "1.618033988749895\n"
     ]
    }
   ],
   "source": [
    "# 2数値演算\n",
    "import math\n",
    "\n",
    "#2-8\n",
    "print(math.sqrt(2))\n",
    "print(math.pi)\n",
    "\n",
    "#2-9\n",
    "Goldenratio = (math.sqrt(5)+1)/2\n",
    "print(Goldenratio)"
   ]
  },
  {
   "cell_type": "code",
   "execution_count": 51,
   "id": "751d3f08",
   "metadata": {},
   "outputs": [
    {
     "name": "stdout",
     "output_type": "stream",
     "text": [
      "18.571534800713867\n",
      "21.280276816609\n",
      "273181.75\n",
      "180.975\n",
      "True\n",
      "The value of s is 6.0\n",
      "6.0\n"
     ]
    }
   ],
   "source": [
    "#3変数と関数の基礎\n",
    "\n",
    "#3-1\n",
    "h = 164\n",
    "w = 49.95\n",
    "BMI = w/(h/100)**2\n",
    "print(BMI)\n",
    "\n",
    "#3-2\n",
    "def bmi(height, weight):\n",
    "    return weight/(height/100)**2\n",
    "print(bmi(170, 61.5))\n",
    "\n",
    "def compoundprofit(principal, interestrate, period):\n",
    "    return (principal*(1+(interestrate/100))**period)\n",
    "print(compoundprofit(250000, 3, 3))\n",
    "\n",
    "#3-3\n",
    "def feet_to_cm(feet, inch):\n",
    "    return ((feet+(inch/12))*30.48)\n",
    "print(feet_to_cm(5,11.25))\n",
    "print(feet_to_cm(5,11.25)==180.975)\n",
    "\n",
    "#3-5\n",
    "def heronslaw(sidea, sideb, sidec):\n",
    "    s =0.5*(sidea+sideb+sidec)\n",
    "    print('The value of s is', s)\n",
    "    return math.sqrt(s*(s-sidea)*(s-sideb)*(s-sidec))\n",
    "print(heronslaw(3,4,5))"
   ]
  },
  {
   "cell_type": "code",
   "execution_count": 10,
   "id": "539df18a",
   "metadata": {},
   "outputs": [
    {
     "name": "stdout",
     "output_type": "stream",
     "text": [
      "50\n",
      "True\n",
      "True\n",
      "8\n",
      "9\n"
     ]
    },
    {
     "data": {
      "text/plain": [
       "''"
      ]
     },
     "execution_count": 10,
     "metadata": {},
     "output_type": "execute_result"
    }
   ],
   "source": [
    "#4論理・比較演算と条件分岐の基礎\n",
    "\n",
    "#4-1\n",
    "def larger(onenumber, theothernumber):\n",
    "    if onenumber > theothernumber:\n",
    "        return onenumber\n",
    "    return theothernumber\n",
    "    #この場合、if節の条件が通らなかった時点で最後のreturnまで勝手に行くので、わざわざelseを書く必要はない\n",
    "print(larger(49,50))\n",
    "\n",
    "#4-2\n",
    "print(1 < 2 < 3)\n",
    "print(3*3<10)\n",
    "    #条件を書くだけでデフォで真偽判定をしてくれるっぽい\n",
    "    \n",
    "#4-3\n",
    "def absolute(givennumberx):\n",
    "    if givennumberx < 0:\n",
    "       return givennumberx*-1\n",
    "    return givennumberx\n",
    "print(absolute(-8))\n",
    "print(absolute(9))\n",
    "\n",
    "#4-6\n",
    "def nonefinder(numY):\n",
    "    if numY == None:\n",
    "        return 'You have not filled in'\n",
    "    return numY\n",
    "nonefinder('')"
   ]
  },
  {
   "cell_type": "code",
   "execution_count": 4,
   "id": "49120fb5",
   "metadata": {},
   "outputs": [
    {
     "name": "stdout",
     "output_type": "stream",
     "text": [
      "T= 70000\n",
      "R(%)= 0.5833333333333334\n",
      "X= 171.42857142857142\n"
     ]
    }
   ],
   "source": [
    "# #N = The number of new case per day  = 一日の新規感染者数\n",
    "# #D = Duration of each infection period = 一人が回復にかかる日数\n",
    "# #P = Population\n",
    "\n",
    "# #T = Total patient number per day = 一日あたりの感染者のべ人数\n",
    "# #R = Ratio = 人口あたりの感染者の割合\n",
    "# #X = X人に一人が感染している\n",
    "\n",
    "\n",
    "# def infectionratio(N,D,P):\n",
    "# T = N*D\n",
    "# R = T/P\n",
    "# X = 1/R\n",
    "\n",
    "# print('T=',T)\n",
    "# print('R(%)=',R*100)\n",
    "# print('X=',X)\n",
    "\n",
    "# infectionratio(5000, 14, 12000000)\n",
    "\n",
    "#※ctrl + / でまとめてコメントアウト"
   ]
  },
  {
   "cell_type": "code",
   "execution_count": 14,
   "id": "ab440ff1",
   "metadata": {},
   "outputs": [
    {
     "name": "stdout",
     "output_type": "stream",
     "text": [
      "12345678\n",
      "l\n",
      "l\n",
      "Dwayne 'The Rock' Johnson\n",
      "shuniiichiiiroiiise\n",
      "Der sträße\n"
     ]
    }
   ],
   "source": [
    "#6文字列 (string)\n",
    "\n",
    "#6-0\n",
    "Word1 = \"Hello\"\n",
    "type(Word1)\n",
    "Word2 =str(12345)\n",
    "Word3 =str(678)\n",
    "print(Word2+Word3)\n",
    "\n",
    "#6-1\n",
    "print(\"hellow\"[3])\n",
    "print(\"hello\"[-2])\n",
    "\n",
    "#6-5\n",
    "nameoftherock =\"Dwayne 'The Rock' Johnson\"\n",
    "print(nameoftherock)\n",
    "    #\"\"の中に''を入れればエスケープシーケンスを使わずに引用符を表現することが可能\n",
    "    #3連'''も存在\n",
    "    \n",
    "#6-8\n",
    "myname =\"shunichiroise\"\n",
    "print(myname.replace('i','iii'))\n",
    "\n",
    "def makeitgerman(sentence):\n",
    "    sentence = sentence.replace('ss', 'ß')\n",
    "    sentence = sentence.replace('a', 'ä')\n",
    "    sentence = sentence.replace('o', 'ö')\n",
    "    sentence = sentence.replace('u', 'ü')\n",
    "    sentence = sentence.replace('the', 'Der')\n",
    "    return sentence\n",
    "print(makeitgerman(\"the strasse\")) "
   ]
  },
  {
   "cell_type": "code",
   "execution_count": 4,
   "id": "03a13db1",
   "metadata": {
    "scrolled": false
   },
   "outputs": [
    {
     "name": "stdout",
     "output_type": "stream",
     "text": [
      "<class 'list'>\n",
      "Misuzu\n",
      "['Tatsushi', 'Misuzu', 'Shunichiro']\n",
      "[None, 'Misuzu', None, 'Hayato']\n",
      "['b', 'd', 'f']\n",
      "[None, 'Misuzu', None, 'Hayato', None, 'Misuzu', None, 'Hayato', None, 'Misuzu', None, 'Hayato']\n",
      "9\n",
      "y\n",
      "18\n",
      "5\n",
      "15\n",
      "num75\n",
      "[5623, 664, 543, 44, 44, 24, 5, 4, 2]\n",
      "[2, 4, 5, 24, 44, 44, 543, 664, 5623]\n",
      "(8, 16)\n",
      "<class 'tuple'>\n",
      "(1, 2, 3, 4, 5, 6, 7, 8, 9)\n",
      "3\n",
      "(1, 3, 5)\n",
      "pen apple\n",
      "None\n",
      "Misuzu\n",
      "None\n",
      "Hayato\n",
      "[['A', 5], ['T', 2], ['G', 3], ['C', 4]]\n",
      "[5624, 665, 544, 45, 45, 25, 6, 5, 3]\n",
      "[5625, 666, 545, 46, 46, 26, 7, 6, 4]\n"
     ]
    }
   ],
   "source": [
    "#7リスト (list)\n",
    "samplenumlist = [1,2,3,4,5]\n",
    "samplerandomlist =[4,24,5623,44,2,664,44,543,5]\n",
    "\n",
    "#7-0\n",
    "isefamily = ['Tatsushi', 'Misuzu', 'Shunichiro', 'Hayato']\n",
    "print(type(isefamily))\n",
    "print(isefamily[1])\n",
    "print(isefamily[0:3])\n",
    "\n",
    "def remove_evenindex(ln):\n",
    "    for num in range (len(ln)):\n",
    "        if num%2 == 0:\n",
    "            ln[num] = None\n",
    "    return len\n",
    "        \n",
    "\n",
    "remove_evenindex(isefamily)\n",
    "print(isefamily)\n",
    "\n",
    "#始点のインデックス番号 : 終点のインデックス番号 : スキップする数+1\n",
    "def remove_evenindex(ln):\n",
    "    ln2 = ln[1::2]\n",
    "    return ln2\n",
    "print(remove_evenindex(['a', 'b', 'c', 'd', 'e', 'f', 'g']))\n",
    "print(isefamily*3)\n",
    "\n",
    "#7-3\n",
    "doublelist =[[1,4,7],[2,5,8],[3,6,9]]\n",
    "print(doublelist[2][2])\n",
    "crazylist = [doublelist,2,\"T\",[\"x\",\"y\",\"z\",3],[1,2,3,4,\"v\"]]\n",
    "print(crazylist[3][1])\n",
    "\n",
    "#7-4\n",
    "def count_words(str_engsentence):\n",
    "    englist = str_engsentence.split(\" \")\n",
    "    return len(englist)\n",
    "print(count_words(\"'From Stettin in the Baltic to Trieste in the Adriatic an iron curtain has descended across the Continent.\"))\n",
    "print(max(samplenumlist))\n",
    "print(sum(samplenumlist))\n",
    "\n",
    "#リストに対する in 演算子,not in演算子は、論理演算 or を簡潔に記述するのに用いることもできます。\n",
    "num74 = 1\n",
    "if 1 in samplenumlist:\n",
    "    num74 = \"num75\"\n",
    "else:\n",
    "    num74 = \"num77\"\n",
    "print(num74)\n",
    "samplerandomlist.sort(reverse = True)\n",
    "print(samplerandomlist)\n",
    "print(sorted(samplerandomlist))\n",
    "\n",
    "#7-7 タプル(tuple)　　タプルは変更不可能なデータです。\n",
    "pointx = 8\n",
    "pointy = 16\n",
    "samplepoint =(pointx,pointy)\n",
    "print(samplepoint)\n",
    "print(type(samplepoint))\n",
    "sampletuple = 1,2,3,4,5,6,7,8,9\n",
    "print(sampletuple)\n",
    "print(sampletuple[2])\n",
    "sampletuple2 =sampletuple[0:6:2]\n",
    "print(sampletuple2)\n",
    "list(sampletuple2)\n",
    "\n",
    "def reverse_totuple(ln):\n",
    "    ln.reverse()\n",
    "    tuplereverse =tuple(ln)\n",
    "    return tuplereverse\n",
    "reverse_totuple([1, 2, 3, 4, 5])\n",
    "\n",
    "#7-9 多重代入\n",
    "sampletuple3 = (1,2,3)\n",
    "(s,d,d) = sampletuple3\n",
    "d\n",
    "\n",
    "x=\"apple\"\n",
    "y=\"pen\"\n",
    "x,y = y,x\n",
    "print(x,y)\n",
    "\n",
    "#7-11 for文(拡張for文)\n",
    "for value in isefamily:\n",
    "    print(value)\n",
    "    \n",
    "#7-12\n",
    "#[累積代入文」　ここで、+= という演算子は、+ と = を結合させた演算子で、w = w + 10 という代入文と同じ意味になります。 \n",
    "def sum_list(ln):\n",
    "    sumnum = 0\n",
    "    for value in ln:\n",
    "        sumnum += value\n",
    "        #sumnum = sumnum + valueと同義\n",
    "    return sumnum  \n",
    "sum_list(samplerandomlist)\n",
    "\n",
    "#7-14 \n",
    "#俺の答え\n",
    "def atgc_countlist(str_atgc):\n",
    "    a = 0\n",
    "    t = 0\n",
    "    g = 0\n",
    "    c = 0\n",
    "    for value in str_atgc:\n",
    "        if value == \"A\":\n",
    "            a += 1\n",
    "        elif value == \"T\":\n",
    "            t += 1\n",
    "        elif value == \"G\":\n",
    "            g += 1\n",
    "        else:\n",
    "            c += 1\n",
    "    genlist = [[\"A\",a],[\"T\",t],[\"G\",g],[\"C\", c]]\n",
    "    return genlist\n",
    "print(atgc_countlist('AAGCCCCATGGTAA'))\n",
    "\n",
    "#模範解答\n",
    "def atgc_countlist1(str_atgc):\n",
    "    list_count = []\n",
    "    for value in 'ATGC':\n",
    "        int_bpcnt = str_atgc.count(value)\n",
    "        list_count.append([int_bpcnt, value])\n",
    "    return list_count\n",
    "atgc_countlist1('AAGCCCCATGGTAA')   \n",
    "#appendの使い方→「リスト名．append（追加したい要素）」として作成したリストに値を付加することができます。\n",
    "#各要素の個数（要素ごとの出現回数）をカウント: count()メソッド\n",
    "\n",
    "#7-15　内包表記\n",
    "squares1 = []\n",
    "for value in samplerandomlist:\n",
    "    squares1.append(value+1)\n",
    "print(squares1)\n",
    "\n",
    "squares2 = [x+2 for x in samplerandomlist]\n",
    "print(squares2)\n"
   ]
  },
  {
   "cell_type": "code",
   "execution_count": 24,
   "id": "ba0413dd",
   "metadata": {},
   "outputs": [
    {
     "name": "stdout",
     "output_type": "stream",
     "text": [
      "1\n",
      "2\n",
      "3\n"
     ]
    }
   ],
   "source": [
    "#8　条件分岐\n",
    "\n",
    "#8-5\n",
    "def exception9(a):\n",
    "    if a[0] != a[1] and a[0] != a[2]:\n",
    "        return a[0]\n",
    "    elif a[1] != a[2] and a[1] != a[3]:\n",
    "        return a[1]\n",
    "    elif a[2] != a[3] and a[2] != a[4]:\n",
    "        return a[2]\n",
    "    elif a[3] != a[4] and a[3] != a[5]:\n",
    "        return a[3]\n",
    "    elif a[4] != a[5] and a[4] != a[6]:\n",
    "        return a[4]\n",
    "    elif a[5] != a[6] and a[5] != a[7]:\n",
    "        return a[5]\n",
    "    elif a[6] != a[7] and a[6] != a[8]:\n",
    "        return a[6]\n",
    "    elif a[7] != a[8] and a[7] != a[6]:\n",
    "        return a[7]\n",
    "    else:\n",
    "        return a[8]\n",
    "print(exception9([1,2,2,2,2,2,2,2,2]))\n",
    "print(exception9([4,4,4,4,4,2,4,4,4]))\n",
    "print(exception9([9,9,9,9,9,9,9,9,3]))\n",
    "\n",
    "#8-10　三項演算子　…　一つのif elseの条件を一行で書ける\n",
    "sankouenzain = 0\n",
    "sign = \"positive or zero\" if x >= 0 else \"negative\""
   ]
  },
  {
   "cell_type": "code",
   "execution_count": 10,
   "id": "ad7cbcf9",
   "metadata": {},
   "outputs": [
    {
     "name": "stdout",
     "output_type": "stream",
     "text": [
      "{'apple': 3, 'pen': 5}\n",
      "<class 'dict'>\n",
      "3\n",
      "5\n",
      "3\n",
      "None\n",
      "{5623: 0, 664: 1, 543: 2, 44: 3, 24: 5, 5: 6, 4: 7, 2: 8}\n",
      "{5623: 0, 664: 1, 543: 2, 44: 3, 24: 5, 5: 6, 4: 7, 2: 8}\n",
      "7\n",
      "{'apple': 3, 'pen': 5, 'orange': 7}\n",
      "3\n",
      "apple\n",
      "pen\n",
      "orange\n"
     ]
    }
   ],
   "source": [
    "#9　辞書\n",
    "\n",
    "ppap = {\"apple\" : 3, \"pen\" : 5}\n",
    "print(ppap)\n",
    "print(type(ppap))\n",
    "print(ppap[\"apple\"])\n",
    "print(ppap[\"pen\"])\n",
    "#↑この方法で存在しないコンテントを参照しようとするとエラーが起きる。↓getを使えば代わりにnoneが出てくるのでエラーは回避できる。\n",
    "print(ppap.get(\"apple\"))\n",
    "print(ppap.get(3))\n",
    "\n",
    "#9.1\n",
    "#自分の回答\n",
    "def reverse_lookup(list1):\n",
    "    dic1 = {}\n",
    "    count = -1\n",
    "    for value in list1:\n",
    "        count +=1\n",
    "        dic1.setdefault(value, count)\n",
    "    return dic1\n",
    "print(reverse_lookup(samplerandomlist))\n",
    "\n",
    "#模範解答\n",
    "def reverse_lookup1(list2):\n",
    "    dic2 = {} # 空の辞書を作成する\n",
    "    for value in list2:\n",
    "        dic2[value] = list2.index(value)\n",
    "    return dic2\n",
    "print(reverse_lookup1(samplerandomlist))\n",
    "\n",
    "#9.2.2 methods\n",
    "print(ppap.setdefault(\"orange\",7))\n",
    "print(ppap)\n",
    "print(len(ppap))\n",
    "fruitlist = list(ppap.keys())\n",
    "\n",
    "for value in fruitlist:\n",
    "    print(value)\n",
    "\n",
    "\n"
   ]
  },
  {
   "cell_type": "code",
   "execution_count": null,
   "id": "30ce2e69",
   "metadata": {},
   "outputs": [],
   "source": [
    "#9　繰り返し\n",
    "sentence = \"Hello, my name is Shunichiro Ise. my current challnage is that I do not have any suit to commute since I have never visited my office.\"\n"
   ]
  }
 ],
 "metadata": {
  "kernelspec": {
   "display_name": "Python 3",
   "language": "python",
   "name": "python3"
  },
  "language_info": {
   "codemirror_mode": {
    "name": "ipython",
    "version": 3
   },
   "file_extension": ".py",
   "mimetype": "text/x-python",
   "name": "python",
   "nbconvert_exporter": "python",
   "pygments_lexer": "ipython3",
   "version": "3.8.8"
  }
 },
 "nbformat": 4,
 "nbformat_minor": 5
}
